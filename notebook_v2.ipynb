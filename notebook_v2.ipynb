{
  "cells": [
    {
      "cell_type": "code",
      "execution_count": 1,
      "metadata": {
        "id": "dyCpO4kDhiw5"
      },
      "outputs": [],
      "source": [
        "import tensorflow as tf\n",
        "import numpy as np\n",
        "import pandas as pd\n",
        "import os"
      ]
    },
    {
      "cell_type": "code",
      "execution_count": 138,
      "metadata": {
        "id": "0DqB3CXVhiw7"
      },
      "outputs": [],
      "source": [
        "gpus=tf.config.list_physical_devices('GPU')\n",
        "for gpu in gpus:\n",
        "    tf.config.experimental.set_memory_growth(gpu,True)"
      ]
    },
    {
      "cell_type": "code",
      "execution_count": 3,
      "metadata": {
        "colab": {
          "base_uri": "https://localhost:8080/"
        },
        "id": "f-_AD9iuiVuW",
        "outputId": "9841abfc-78c7-4ee1-e51e-a921a81d248b"
      },
      "outputs": [
        {
          "name": "stdout",
          "output_type": "stream",
          "text": [
            "Mounted at /content/gdrive\n"
          ]
        }
      ],
      "source": [
        "from google.colab import drive\n",
        "drive.mount('/content/gdrive')"
      ]
    },
    {
      "cell_type": "code",
      "execution_count": 4,
      "metadata": {
        "colab": {
          "base_uri": "https://localhost:8080/"
        },
        "id": "mtX6ojxridr5",
        "outputId": "e53886e1-7ec9-4629-b255-c14ad1fdcd50"
      },
      "outputs": [
        {
          "name": "stdout",
          "output_type": "stream",
          "text": [
            "-rw-r--r-- 1 root root 68 Mar 26 11:28 kaggle.json\n"
          ]
        }
      ],
      "source": [
        "!ls -lha kaggle.json\n",
        "!pip install -q kaggle\n",
        "!mkdir -p ~/.kaggle\n",
        "!cp kaggle.json ~/.kaggle/\n",
        "!chmod 600 /root/.kaggle/kaggle.json"
      ]
    },
    {
      "cell_type": "code",
      "execution_count": 5,
      "metadata": {
        "colab": {
          "base_uri": "https://localhost:8080/"
        },
        "id": "Cjx3sgeNhmnV",
        "outputId": "da48d029-e303-4a68-a878-ed4bbd4a1ed4"
      },
      "outputs": [
        {
          "name": "stdout",
          "output_type": "stream",
          "text": [
            "Downloading imdb-dataset-of-50k-movie-reviews.zip to /content\n",
            "100% 25.7M/25.7M [00:02<00:00, 20.2MB/s]\n",
            "100% 25.7M/25.7M [00:02<00:00, 10.7MB/s]\n"
          ]
        }
      ],
      "source": [
        "!kaggle datasets download -d lakshmi25npathi/imdb-dataset-of-50k-movie-reviews"
      ]
    },
    {
      "cell_type": "code",
      "execution_count": 6,
      "metadata": {
        "colab": {
          "base_uri": "https://localhost:8080/"
        },
        "id": "rxHhgEgVhy6h",
        "outputId": "f183795c-4dc5-4173-d551-806114ca3704"
      },
      "outputs": [
        {
          "name": "stdout",
          "output_type": "stream",
          "text": [
            "Archive:  imdb-dataset-of-50k-movie-reviews.zip\n",
            "  inflating: IMDB Dataset.csv        \n"
          ]
        }
      ],
      "source": [
        "!unzip imdb-dataset-of-50k-movie-reviews.zip"
      ]
    },
    {
      "cell_type": "code",
      "execution_count": 2,
      "metadata": {
        "colab": {
          "base_uri": "https://localhost:8080/",
          "height": 206
        },
        "id": "XLTzbE1-hiw7",
        "outputId": "b80afe0b-57af-46c5-8afe-47abb5cc8247"
      },
      "outputs": [
        {
          "data": {
            "text/html": [
              "<div>\n",
              "<style scoped>\n",
              "    .dataframe tbody tr th:only-of-type {\n",
              "        vertical-align: middle;\n",
              "    }\n",
              "\n",
              "    .dataframe tbody tr th {\n",
              "        vertical-align: top;\n",
              "    }\n",
              "\n",
              "    .dataframe thead th {\n",
              "        text-align: right;\n",
              "    }\n",
              "</style>\n",
              "<table border=\"1\" class=\"dataframe\">\n",
              "  <thead>\n",
              "    <tr style=\"text-align: right;\">\n",
              "      <th></th>\n",
              "      <th>review</th>\n",
              "      <th>sentiment</th>\n",
              "    </tr>\n",
              "  </thead>\n",
              "  <tbody>\n",
              "    <tr>\n",
              "      <th>0</th>\n",
              "      <td>One of the other reviewers has mentioned that ...</td>\n",
              "      <td>positive</td>\n",
              "    </tr>\n",
              "    <tr>\n",
              "      <th>1</th>\n",
              "      <td>A wonderful little production. &lt;br /&gt;&lt;br /&gt;The...</td>\n",
              "      <td>positive</td>\n",
              "    </tr>\n",
              "    <tr>\n",
              "      <th>2</th>\n",
              "      <td>I thought this was a wonderful way to spend ti...</td>\n",
              "      <td>positive</td>\n",
              "    </tr>\n",
              "    <tr>\n",
              "      <th>3</th>\n",
              "      <td>Basically there's a family where a little boy ...</td>\n",
              "      <td>negative</td>\n",
              "    </tr>\n",
              "    <tr>\n",
              "      <th>4</th>\n",
              "      <td>Petter Mattei's \"Love in the Time of Money\" is...</td>\n",
              "      <td>positive</td>\n",
              "    </tr>\n",
              "  </tbody>\n",
              "</table>\n",
              "</div>"
            ],
            "text/plain": [
              "                                              review sentiment\n",
              "0  One of the other reviewers has mentioned that ...  positive\n",
              "1  A wonderful little production. <br /><br />The...  positive\n",
              "2  I thought this was a wonderful way to spend ti...  positive\n",
              "3  Basically there's a family where a little boy ...  negative\n",
              "4  Petter Mattei's \"Love in the Time of Money\" is...  positive"
            ]
          },
          "execution_count": 2,
          "metadata": {},
          "output_type": "execute_result"
        }
      ],
      "source": [
        "df=pd.read_csv('data/IMDB Dataset.csv')\n",
        "df.head()"
      ]
    },
    {
      "cell_type": "code",
      "execution_count": 3,
      "metadata": {
        "colab": {
          "base_uri": "https://localhost:8080/",
          "height": 128
        },
        "id": "tFkfXnm4hiw9",
        "outputId": "85d51385-0fec-49c4-a35c-c7d49ff783f4"
      },
      "outputs": [
        {
          "data": {
            "text/plain": [
              "\"One of the other reviewers has mentioned that after watching just 1 Oz episode you'll be hooked. They are right, as this is exactly what happened with me.<br /><br />The first thing that struck me about Oz was its brutality and unflinching scenes of violence, which set in right from the word GO. Trust me, this is not a show for the faint hearted or timid. This show pulls no punches with regards to drugs, sex or violence. Its is hardcore, in the classic use of the word.<br /><br />It is called OZ as that is the nickname given to the Oswald Maximum Security State Penitentary. It focuses mainly on Emerald City, an experimental section of the prison where all the cells have glass fronts and face inwards, so privacy is not high on the agenda. Em City is home to many..Aryans, Muslims, gangstas, Latinos, Christians, Italians, Irish and more....so scuffles, death stares, dodgy dealings and shady agreements are never far away.<br /><br />I would say the main appeal of the show is due to the fact that it goes where other shows wouldn't dare. Forget pretty pictures painted for mainstream audiences, forget charm, forget romance...OZ doesn't mess around. The first episode I ever saw struck me as so nasty it was surreal, I couldn't say I was ready for it, but as I watched more, I developed a taste for Oz, and got accustomed to the high levels of graphic violence. Not just violence, but injustice (crooked guards who'll be sold out for a nickel, inmates who'll kill on order and get away with it, well mannered, middle class inmates being turned into prison bitches due to their lack of street skills or prison experience) Watching Oz, you may become comfortable with what is uncomfortable viewing....thats if you can get in touch with your darker side.\""
            ]
          },
          "execution_count": 3,
          "metadata": {},
          "output_type": "execute_result"
        }
      ],
      "source": [
        "df.iloc[0]['review']"
      ]
    },
    {
      "cell_type": "code",
      "execution_count": 4,
      "metadata": {
        "colab": {
          "base_uri": "https://localhost:8080/"
        },
        "id": "L1Jy1u9thiw9",
        "outputId": "87211697-9db7-4f44-a183-9de835058cde"
      },
      "outputs": [
        {
          "name": "stdout",
          "output_type": "stream",
          "text": [
            "<class 'pandas.core.frame.DataFrame'>\n",
            "RangeIndex: 50000 entries, 0 to 49999\n",
            "Data columns (total 2 columns):\n",
            " #   Column     Non-Null Count  Dtype \n",
            "---  ------     --------------  ----- \n",
            " 0   review     50000 non-null  object\n",
            " 1   sentiment  50000 non-null  object\n",
            "dtypes: object(2)\n",
            "memory usage: 781.4+ KB\n"
          ]
        }
      ],
      "source": [
        "df.info()"
      ]
    },
    {
      "cell_type": "code",
      "execution_count": 5,
      "metadata": {
        "colab": {
          "base_uri": "https://localhost:8080/"
        },
        "id": "1dwaCqY6hiw9",
        "outputId": "9abbdb06-e7dd-46fe-eb72-a3485cc8fb70"
      },
      "outputs": [
        {
          "data": {
            "text/plain": [
              "review       0\n",
              "sentiment    0\n",
              "dtype: int64"
            ]
          },
          "execution_count": 5,
          "metadata": {},
          "output_type": "execute_result"
        }
      ],
      "source": [
        "df.isnull().sum()"
      ]
    },
    {
      "cell_type": "code",
      "execution_count": 6,
      "metadata": {
        "colab": {
          "base_uri": "https://localhost:8080/",
          "height": 175
        },
        "id": "Nt9u6Rd6hiw-",
        "outputId": "60a3940b-cb17-42f1-e5c9-7a611673e494"
      },
      "outputs": [
        {
          "data": {
            "text/html": [
              "<div>\n",
              "<style scoped>\n",
              "    .dataframe tbody tr th:only-of-type {\n",
              "        vertical-align: middle;\n",
              "    }\n",
              "\n",
              "    .dataframe tbody tr th {\n",
              "        vertical-align: top;\n",
              "    }\n",
              "\n",
              "    .dataframe thead th {\n",
              "        text-align: right;\n",
              "    }\n",
              "</style>\n",
              "<table border=\"1\" class=\"dataframe\">\n",
              "  <thead>\n",
              "    <tr style=\"text-align: right;\">\n",
              "      <th></th>\n",
              "      <th>review</th>\n",
              "      <th>sentiment</th>\n",
              "    </tr>\n",
              "  </thead>\n",
              "  <tbody>\n",
              "    <tr>\n",
              "      <th>count</th>\n",
              "      <td>50000</td>\n",
              "      <td>50000</td>\n",
              "    </tr>\n",
              "    <tr>\n",
              "      <th>unique</th>\n",
              "      <td>49582</td>\n",
              "      <td>2</td>\n",
              "    </tr>\n",
              "    <tr>\n",
              "      <th>top</th>\n",
              "      <td>Loved today's show!!! It was a variety and not...</td>\n",
              "      <td>positive</td>\n",
              "    </tr>\n",
              "    <tr>\n",
              "      <th>freq</th>\n",
              "      <td>5</td>\n",
              "      <td>25000</td>\n",
              "    </tr>\n",
              "  </tbody>\n",
              "</table>\n",
              "</div>"
            ],
            "text/plain": [
              "                                                   review sentiment\n",
              "count                                               50000     50000\n",
              "unique                                              49582         2\n",
              "top     Loved today's show!!! It was a variety and not...  positive\n",
              "freq                                                    5     25000"
            ]
          },
          "execution_count": 6,
          "metadata": {},
          "output_type": "execute_result"
        }
      ],
      "source": [
        "df.describe()"
      ]
    },
    {
      "cell_type": "code",
      "execution_count": 3,
      "metadata": {
        "id": "Fn2niPUJhiw-"
      },
      "outputs": [],
      "source": [
        "import seaborn as sns\n",
        "from matplotlib import pyplot as plt"
      ]
    },
    {
      "cell_type": "code",
      "execution_count": 142,
      "metadata": {},
      "outputs": [
        {
          "data": {
            "image/png": "[encoded data removed]",
            "text/plain": [
              "<Figure size 576x288 with 1 Axes>"
            ]
          },
          "metadata": {},
          "output_type": "display_data"
        }
      ],
      "source": [
        "plt.style.use('ggplot')\n",
        "plt.figure(figsize=(8,4))\n",
        "sns.countplot(x=df['sentiment'])\n",
        "plt.show()"
      ]
    },
    {
      "cell_type": "code",
      "execution_count": 4,
      "metadata": {
        "id": "mErJaBZAhiw-"
      },
      "outputs": [],
      "source": [
        "import nltk\n",
        "from nltk.corpus import stopwords\n",
        "from nltk.stem import PorterStemmer\n",
        "import re,string"
      ]
    },
    {
      "cell_type": "code",
      "execution_count": 15,
      "metadata": {
        "colab": {
          "base_uri": "https://localhost:8080/"
        },
        "id": "_VMCm7brkJW3",
        "outputId": "128337f5-5ccb-405f-9733-a3bc92a614cb"
      },
      "outputs": [
        {
          "name": "stderr",
          "output_type": "stream",
          "text": [
            "[nltk_data] Downloading package stopwords to /root/nltk_data...\n",
            "[nltk_data]   Unzipping corpora/stopwords.zip.\n"
          ]
        },
        {
          "data": {
            "text/plain": [
              "True"
            ]
          },
          "execution_count": 15,
          "metadata": {},
          "output_type": "execute_result"
        }
      ],
      "source": [
        "nltk.download('stopwords')"
      ]
    },
    {
      "cell_type": "code",
      "execution_count": 5,
      "metadata": {
        "colab": {
          "base_uri": "https://localhost:8080/"
        },
        "id": "q1nfB1Zlhiw-",
        "outputId": "0c5029b7-52e9-44aa-e51b-c5244ce13026"
      },
      "outputs": [
        {
          "data": {
            "text/plain": [
              "['i', 'me', 'my', 'myself', 'we', 'our', 'ours', 'ourselves', 'you', \"you're\"]"
            ]
          },
          "execution_count": 5,
          "metadata": {},
          "output_type": "execute_result"
        }
      ],
      "source": [
        "x=df['review']\n",
        "y=df['sentiment']\n",
        "stemmer=PorterStemmer()\n",
        "stopwords.words('english')[:10]"
      ]
    },
    {
      "cell_type": "code",
      "execution_count": 15,
      "metadata": {
        "id": "BNMHi6HZhiw_"
      },
      "outputs": [],
      "source": [
        "def custom_standardize(input_data):\n",
        "    text=tf.strings.lower(input_data)\n",
        "    text=tf.strings.regex_replace(text,\"<br />\",\" \")\n",
        "    text=tf.strings.regex_replace(text,f\"[{re.escape(string.punctuation)}]\",\"\")\n",
        "    for word in stopwords.words('english'):\n",
        "        text=tf.strings.regex_replace(text,f' {word} ',\"\")\n",
        "    for word in stopwords.words('english'):\n",
        "        text=tf.strings.regex_replace(text,f' {word} ',f\" {stemmer.stem(word)} \")\n",
        "    return text"
      ]
    },
    {
      "cell_type": "code",
      "execution_count": 16,
      "metadata": {
        "id": "3rRdvU8bhiw_"
      },
      "outputs": [],
      "source": [
        "from tensorflow.keras.layers import TextVectorization"
      ]
    },
    {
      "cell_type": "code",
      "execution_count": 17,
      "metadata": {},
      "outputs": [],
      "source": [
        "max_tokens=30000\n",
        "output_seq_len=500\n",
        "embedding_dim=128\n",
        "batch_size=128\n",
        "time_steps=32\n",
        "\n",
        "vectorize_layer=TextVectorization(\n",
        "    standardize=custom_standardize,\n",
        "    max_tokens=max_tokens,\n",
        "    output_mode='int',\n",
        "    output_sequence_length=output_seq_len\n",
        ")\n",
        "vectorize_layer.adapt(x)"
      ]
    },
    {
      "cell_type": "code",
      "execution_count": 16,
      "metadata": {
        "colab": {
          "base_uri": "https://localhost:8080/"
        },
        "id": "UfexDL_Nhiw_",
        "outputId": "5ebc115d-f013-4e10-ab5f-6a8de5bc9b3c"
      },
      "outputs": [
        {
          "data": {
            "text/plain": [
              "(TensorShape([50000, 500]), (50000,))"
            ]
          },
          "execution_count": 16,
          "metadata": {},
          "output_type": "execute_result"
        }
      ],
      "source": [
        "x=vectorize_layer(x.values)\n",
        "y=y.map(lambda x:1 if x=='positive' else 0)\n",
        "x.shape,y.shape"
      ]
    },
    {
      "cell_type": "code",
      "execution_count": 17,
      "metadata": {
        "id": "5IrMT6ZbhixA"
      },
      "outputs": [],
      "source": [
        "data=tf.data.Dataset.from_tensor_slices((x,y))\n",
        "data=data.cache()\n",
        "data=data.shuffle(buffer_size=10000)\n",
        "data=data.batch(batch_size)\n",
        "data=data.prefetch(tf.data.AUTOTUNE)\n",
        "data_iterator=data.as_numpy_iterator()"
      ]
    },
    {
      "cell_type": "code",
      "execution_count": 18,
      "metadata": {
        "colab": {
          "base_uri": "https://localhost:8080/"
        },
        "id": "s1Yp1abhhixA",
        "outputId": "d701b7cf-50a0-40b5-db2d-78ef7ee6147e"
      },
      "outputs": [
        {
          "name": "stdout",
          "output_type": "stream",
          "text": [
            "Train size: 312,\n",
            "Validation size: 79,\n",
            "Total size: 391\n"
          ]
        }
      ],
      "source": [
        "train_data=data.take(int(.8*len(data)))\n",
        "val_data=data.skip(int(.8*len(data))).take(int(.2*len(data)+1))\n",
        "print(f'Train size: {len(train_data)},\\nValidation size: {len(val_data)},\\nTotal size: {len(data)}')"
      ]
    },
    {
      "cell_type": "code",
      "execution_count": 19,
      "metadata": {
        "colab": {
          "base_uri": "https://localhost:8080/"
        },
        "id": "Q_TkxAqAk4yk",
        "outputId": "525d43a7-3092-4fa5-de5e-c78c04ad8f85"
      },
      "outputs": [
        {
          "data": {
            "text/plain": [
              "(array([[   11,     1,  1462, ...,     0,     0,     0],\n",
              "        [   11,  6078,  2514, ...,     0,     0,     0],\n",
              "        [  137,  1165,  1339, ...,     0,     0,     0],\n",
              "        ...,\n",
              "        [26490,     1,     3, ...,     0,     0,     0],\n",
              "        [    1,     1,   642, ...,     0,     0,     0],\n",
              "        [ 5740,     1,  2942, ...,     0,     0,     0]], dtype=int64),\n",
              " array([1, 1, 1, 1, 0, 0, 0, 0, 1, 0, 1, 1, 0, 0, 0, 0, 0, 0, 0, 0, 0, 0,\n",
              "        1, 0, 1, 1, 0, 0, 0, 1, 1, 0, 0, 1, 0, 1, 1, 0, 0, 1, 0, 0, 1, 1,\n",
              "        1, 1, 0, 0, 1, 1, 1, 1, 0, 1, 0, 1, 0, 1, 0, 1, 1, 1, 1, 1, 1, 1,\n",
              "        1, 0, 1, 1, 1, 1, 1, 0, 0, 0, 0, 1, 0, 1, 0, 0, 1, 0, 0, 0, 0, 0,\n",
              "        0, 1, 1, 1, 0, 1, 0, 0, 1, 1, 0, 0, 1, 0, 1, 0, 1, 1, 0, 1, 1, 0,\n",
              "        1, 0, 0, 1, 0, 0, 0, 0, 1, 1, 1, 0, 0, 1, 1, 1, 1, 0], dtype=int64))"
            ]
          },
          "execution_count": 19,
          "metadata": {},
          "output_type": "execute_result"
        }
      ],
      "source": [
        "data_iterator.next()"
      ]
    },
    {
      "cell_type": "code",
      "execution_count": 20,
      "metadata": {
        "id": "hGy1GZl6hixA"
      },
      "outputs": [],
      "source": [
        "from tensorflow.keras import Model,Input\n",
        "from tensorflow.keras.layers import Embedding,Dense,LSTM,Bidirectional,Dropout"
      ]
    },
    {
      "cell_type": "code",
      "execution_count": 21,
      "metadata": {
        "id": "6R4bwlx8hixB"
      },
      "outputs": [],
      "source": [
        "def build_model():\n",
        "    inputs=Input(shape=(output_seq_len,))\n",
        "    x=Embedding(max_tokens+1,embedding_dim)(inputs)\n",
        "    x=Dropout(.2)(x)\n",
        "    x=Bidirectional(\n",
        "        LSTM(time_steps,return_sequences=True,dropout=0.2)\n",
        "    )(x)\n",
        "    x=Bidirectional(\n",
        "        LSTM(time_steps,dropout=.2)\n",
        "    )(x)\n",
        "    x=Dense(1,activation='sigmoid')(x)\n",
        "\n",
        "    model=Model(inputs=inputs,outputs=x)\n",
        "    return model"
      ]
    },
    {
      "cell_type": "code",
      "execution_count": 22,
      "metadata": {
        "colab": {
          "base_uri": "https://localhost:8080/"
        },
        "id": "qT3sRKHXhixB",
        "outputId": "e0274baa-4935-41f3-bdae-d5f3a15f5241"
      },
      "outputs": [
        {
          "name": "stdout",
          "output_type": "stream",
          "text": [
            "Model: \"model\"\n",
            "_________________________________________________________________\n",
            " Layer (type)                Output Shape              Param #   \n",
            "=================================================================\n",
            " input_1 (InputLayer)        [(None, 500)]             0         \n",
            "                                                                 \n",
            " embedding (Embedding)       (None, 500, 128)          3840128   \n",
            "                                                                 \n",
            " dropout (Dropout)           (None, 500, 128)          0         \n",
            "                                                                 \n",
            " bidirectional (Bidirectiona  (None, 500, 64)          41216     \n",
            " l)                                                              \n",
            "                                                                 \n",
            " bidirectional_1 (Bidirectio  (None, 64)               24832     \n",
            " nal)                                                            \n",
            "                                                                 \n",
            " dense (Dense)               (None, 1)                 65        \n",
            "                                                                 \n",
            "=================================================================\n",
            "Total params: 3,906,241\n",
            "Trainable params: 3,906,241\n",
            "Non-trainable params: 0\n",
            "_________________________________________________________________\n"
          ]
        }
      ],
      "source": [
        "model=build_model()\n",
        "model.summary()"
      ]
    },
    {
      "cell_type": "code",
      "execution_count": null,
      "metadata": {
        "colab": {
          "base_uri": "https://localhost:8080/",
          "height": 644
        },
        "id": "UNjcuDOOhixB",
        "outputId": "dcf1b863-b1ea-4b1b-cc9a-5dd64bf287f6"
      },
      "outputs": [
        {
          "data": {
            "image/png": "[encoded data removed]",
            "text/plain": [
              "<IPython.core.display.Image object>"
            ]
          },
          "execution_count": 45,
          "metadata": {},
          "output_type": "execute_result"
        }
      ],
      "source": [
        "tf.keras.utils.plot_model(model,show_shapes=True,dpi=96,show_layer_activations=True)"
      ]
    },
    {
      "cell_type": "code",
      "execution_count": 23,
      "metadata": {
        "id": "IdlP83LBhixC"
      },
      "outputs": [],
      "source": [
        "model.compile(\n",
        "    optimizer=tf.keras.optimizers.Adam(learning_rate=0.01),\n",
        "    loss=tf.keras.losses.BinaryCrossentropy(),\n",
        "    metrics=['accuracy']\n",
        ")"
      ]
    },
    {
      "cell_type": "code",
      "execution_count": null,
      "metadata": {
        "colab": {
          "base_uri": "https://localhost:8080/"
        },
        "id": "1CCbgiLphixC",
        "outputId": "f24908be-5ff2-495e-8e97-d01b11129d40"
      },
      "outputs": [
        {
          "name": "stdout",
          "output_type": "stream",
          "text": [
            "Epoch 1/10\n",
            "312/312 [==============================] - ETA: 0s - loss: 0.5329 - accuracy: 0.7269\n",
            "Epoch 1: val_loss improved from inf to 0.34150, saving model to ckpt\n"
          ]
        },
        {
          "name": "stderr",
          "output_type": "stream",
          "text": [
            "WARNING:absl:Found untraced functions such as lstm_cell_20_layer_call_fn, lstm_cell_20_layer_call_and_return_conditional_losses, lstm_cell_21_layer_call_fn, lstm_cell_21_layer_call_and_return_conditional_losses, lstm_cell_23_layer_call_fn while saving (showing 5 of 8). These functions will not be directly callable after loading.\n"
          ]
        },
        {
          "name": "stdout",
          "output_type": "stream",
          "text": [
            "\b\b\b\b\b\b\b\b\b\b\b\b\b\b\b\b\b\b\b\b\b\b\b\b\b\b\b\b\b\b\b\b\b\b\b\b\b\b\b\b\b\b\b\b\b\b\b\b\b\b\b\b\b\b\b\b\b\b\b\b\b\b\b\b\b\b\b\b\b\b\b\b\b\b\b\b\b\b\b\b\b\b\b\b\r312/312 [==============================] - 94s 278ms/step - loss: 0.5329 - accuracy: 0.7269 - val_loss: 0.3415 - val_accuracy: 0.8585\n",
            "Epoch 2/10\n",
            "312/312 [==============================] - ETA: 0s - loss: 0.3071 - accuracy: 0.8722\n",
            "Epoch 2: val_loss improved from 0.34150 to 0.25017, saving model to ckpt\n"
          ]
        },
        {
          "name": "stderr",
          "output_type": "stream",
          "text": [
            "WARNING:absl:Found untraced functions such as lstm_cell_20_layer_call_fn, lstm_cell_20_layer_call_and_return_conditional_losses, lstm_cell_21_layer_call_fn, lstm_cell_21_layer_call_and_return_conditional_losses, lstm_cell_23_layer_call_fn while saving (showing 5 of 8). These functions will not be directly callable after loading.\n"
          ]
        },
        {
          "name": "stdout",
          "output_type": "stream",
          "text": [
            "\b\b\b\b\b\b\b\b\b\b\b\b\b\b\b\b\b\b\b\b\b\b\b\b\b\b\b\b\b\b\b\b\b\b\b\b\b\b\b\b\b\b\b\b\b\b\b\b\b\b\b\b\b\b\b\b\b\b\b\b\b\b\b\b\b\b\b\b\b\b\b\b\b\b\b\b\b\b\b\b\b\b\b\b\r312/312 [==============================] - 69s 222ms/step - loss: 0.3071 - accuracy: 0.8722 - val_loss: 0.2502 - val_accuracy: 0.9009\n",
            "Epoch 3/10\n",
            "312/312 [==============================] - ETA: 0s - loss: 0.2107 - accuracy: 0.9199\n",
            "Epoch 3: val_loss improved from 0.25017 to 0.22100, saving model to ckpt\n"
          ]
        },
        {
          "name": "stderr",
          "output_type": "stream",
          "text": [
            "WARNING:absl:Found untraced functions such as lstm_cell_20_layer_call_fn, lstm_cell_20_layer_call_and_return_conditional_losses, lstm_cell_21_layer_call_fn, lstm_cell_21_layer_call_and_return_conditional_losses, lstm_cell_23_layer_call_fn while saving (showing 5 of 8). These functions will not be directly callable after loading.\n"
          ]
        },
        {
          "name": "stdout",
          "output_type": "stream",
          "text": [
            "\b\b\b\b\b\b\b\b\b\b\b\b\b\b\b\b\b\b\b\b\b\b\b\b\b\b\b\b\b\b\b\b\b\b\b\b\b\b\b\b\b\b\b\b\b\b\b\b\b\b\b\b\b\b\b\b\b\b\b\b\b\b\b\b\b\b\b\b\b\b\b\b\b\b\b\b\b\b\b\b\b\b\b\b\r312/312 [==============================] - 62s 197ms/step - loss: 0.2107 - accuracy: 0.9199 - val_loss: 0.2210 - val_accuracy: 0.9205\n",
            "Epoch 4/10\n",
            "312/312 [==============================] - ETA: 0s - loss: 0.1466 - accuracy: 0.9477\n",
            "Epoch 4: val_loss improved from 0.22100 to 0.19972, saving model to ckpt\n"
          ]
        },
        {
          "name": "stderr",
          "output_type": "stream",
          "text": [
            "WARNING:absl:Found untraced functions such as lstm_cell_20_layer_call_fn, lstm_cell_20_layer_call_and_return_conditional_losses, lstm_cell_21_layer_call_fn, lstm_cell_21_layer_call_and_return_conditional_losses, lstm_cell_23_layer_call_fn while saving (showing 5 of 8). These functions will not be directly callable after loading.\n"
          ]
        },
        {
          "name": "stdout",
          "output_type": "stream",
          "text": [
            "\b\b\b\b\b\b\b\b\b\b\b\b\b\b\b\b\b\b\b\b\b\b\b\b\b\b\b\b\b\b\b\b\b\b\b\b\b\b\b\b\b\b\b\b\b\b\b\b\b\b\b\b\b\b\b\b\b\b\b\b\b\b\b\b\b\b\b\b\b\b\b\b\b\b\b\b\b\b\b\b\b\b\b\b\r312/312 [==============================] - 61s 196ms/step - loss: 0.1466 - accuracy: 0.9477 - val_loss: 0.1997 - val_accuracy: 0.9274\n",
            "Epoch 5/10\n",
            "312/312 [==============================] - ETA: 0s - loss: 0.1073 - accuracy: 0.9640\n",
            "Epoch 5: val_loss improved from 0.19972 to 0.18631, saving model to ckpt\n"
          ]
        },
        {
          "name": "stderr",
          "output_type": "stream",
          "text": [
            "WARNING:absl:Found untraced functions such as lstm_cell_20_layer_call_fn, lstm_cell_20_layer_call_and_return_conditional_losses, lstm_cell_21_layer_call_fn, lstm_cell_21_layer_call_and_return_conditional_losses, lstm_cell_23_layer_call_fn while saving (showing 5 of 8). These functions will not be directly callable after loading.\n"
          ]
        },
        {
          "name": "stdout",
          "output_type": "stream",
          "text": [
            "\b\b\b\b\b\b\b\b\b\b\b\b\b\b\b\b\b\b\b\b\b\b\b\b\b\b\b\b\b\b\b\b\b\b\b\b\b\b\b\b\b\b\b\b\b\b\b\b\b\b\b\b\b\b\b\b\b\b\b\b\b\b\b\b\b\b\b\b\b\b\b\b\b\b\b\b\b\b\b\b\b\b\b\b\r312/312 [==============================] - 54s 174ms/step - loss: 0.1073 - accuracy: 0.9640 - val_loss: 0.1863 - val_accuracy: 0.9340\n",
            "Epoch 6/10\n",
            "312/312 [==============================] - ETA: 0s - loss: 0.0809 - accuracy: 0.9728\n",
            "Epoch 6: val_loss improved from 0.18631 to 0.17592, saving model to ckpt\n"
          ]
        },
        {
          "name": "stderr",
          "output_type": "stream",
          "text": [
            "WARNING:absl:Found untraced functions such as lstm_cell_20_layer_call_fn, lstm_cell_20_layer_call_and_return_conditional_losses, lstm_cell_21_layer_call_fn, lstm_cell_21_layer_call_and_return_conditional_losses, lstm_cell_23_layer_call_fn while saving (showing 5 of 8). These functions will not be directly callable after loading.\n"
          ]
        },
        {
          "name": "stdout",
          "output_type": "stream",
          "text": [
            "\b\b\b\b\b\b\b\b\b\b\b\b\b\b\b\b\b\b\b\b\b\b\b\b\b\b\b\b\b\b\b\b\b\b\b\b\b\b\b\b\b\b\b\b\b\b\b\b\b\b\b\b\b\b\b\b\b\b\b\b\b\b\b\b\b\b\b\b\b\b\b\b\b\b\b\b\b\b\b\b\b\b\b\b\r312/312 [==============================] - 54s 172ms/step - loss: 0.0809 - accuracy: 0.9728 - val_loss: 0.1759 - val_accuracy: 0.9394\n",
            "Epoch 7/10\n",
            "312/312 [==============================] - ETA: 0s - loss: 0.0726 - accuracy: 0.9764\n",
            "Epoch 7: val_loss improved from 0.17592 to 0.16828, saving model to ckpt\n"
          ]
        },
        {
          "name": "stderr",
          "output_type": "stream",
          "text": [
            "WARNING:absl:Found untraced functions such as lstm_cell_20_layer_call_fn, lstm_cell_20_layer_call_and_return_conditional_losses, lstm_cell_21_layer_call_fn, lstm_cell_21_layer_call_and_return_conditional_losses, lstm_cell_23_layer_call_fn while saving (showing 5 of 8). These functions will not be directly callable after loading.\n"
          ]
        },
        {
          "name": "stdout",
          "output_type": "stream",
          "text": [
            "\b\b\b\b\b\b\b\b\b\b\b\b\b\b\b\b\b\b\b\b\b\b\b\b\b\b\b\b\b\b\b\b\b\b\b\b\b\b\b\b\b\b\b\b\b\b\b\b\b\b\b\b\b\b\b\b\b\b\b\b\b\b\b\b\b\b\b\b\b\b\b\b\b\b\b\b\b\b\b\b\b\b\b\b\r312/312 [==============================] - 51s 162ms/step - loss: 0.0726 - accuracy: 0.9764 - val_loss: 0.1683 - val_accuracy: 0.9398\n",
            "Epoch 8/10\n",
            "312/312 [==============================] - ETA: 0s - loss: 0.0585 - accuracy: 0.9817\n",
            "Epoch 8: val_loss improved from 0.16828 to 0.14245, saving model to ckpt\n"
          ]
        },
        {
          "name": "stderr",
          "output_type": "stream",
          "text": [
            "WARNING:absl:Found untraced functions such as lstm_cell_20_layer_call_fn, lstm_cell_20_layer_call_and_return_conditional_losses, lstm_cell_21_layer_call_fn, lstm_cell_21_layer_call_and_return_conditional_losses, lstm_cell_23_layer_call_fn while saving (showing 5 of 8). These functions will not be directly callable after loading.\n"
          ]
        },
        {
          "name": "stdout",
          "output_type": "stream",
          "text": [
            "\b\b\b\b\b\b\b\b\b\b\b\b\b\b\b\b\b\b\b\b\b\b\b\b\b\b\b\b\b\b\b\b\b\b\b\b\b\b\b\b\b\b\b\b\b\b\b\b\b\b\b\b\b\b\b\b\b\b\b\b\b\b\b\b\b\b\b\b\b\b\b\b\b\b\b\b\b\b\b\b\b\b\b\b\r312/312 [==============================] - 53s 169ms/step - loss: 0.0585 - accuracy: 0.9817 - val_loss: 0.1424 - val_accuracy: 0.9556\n",
            "Epoch 9/10\n",
            "312/312 [==============================] - ETA: 0s - loss: 0.0497 - accuracy: 0.9846\n",
            "Epoch 9: val_loss improved from 0.14245 to 0.13776, saving model to ckpt\n"
          ]
        },
        {
          "name": "stderr",
          "output_type": "stream",
          "text": [
            "WARNING:absl:Found untraced functions such as lstm_cell_20_layer_call_fn, lstm_cell_20_layer_call_and_return_conditional_losses, lstm_cell_21_layer_call_fn, lstm_cell_21_layer_call_and_return_conditional_losses, lstm_cell_23_layer_call_fn while saving (showing 5 of 8). These functions will not be directly callable after loading.\n"
          ]
        },
        {
          "name": "stdout",
          "output_type": "stream",
          "text": [
            "\b\b\b\b\b\b\b\b\b\b\b\b\b\b\b\b\b\b\b\b\b\b\b\b\b\b\b\b\b\b\b\b\b\b\b\b\b\b\b\b\b\b\b\b\b\b\b\b\b\b\b\b\b\b\b\b\b\b\b\b\b\b\b\b\b\b\b\b\b\b\b\b\b\b\b\b\b\b\b\b\b\b\b\b\r312/312 [==============================] - 49s 158ms/step - loss: 0.0497 - accuracy: 0.9846 - val_loss: 0.1378 - val_accuracy: 0.9554\n",
            "Epoch 10/10\n",
            "312/312 [==============================] - ETA: 0s - loss: 0.0436 - accuracy: 0.9868\n",
            "Epoch 10: val_loss improved from 0.13776 to 0.13379, saving model to ckpt\n"
          ]
        },
        {
          "name": "stderr",
          "output_type": "stream",
          "text": [
            "WARNING:absl:Found untraced functions such as lstm_cell_20_layer_call_fn, lstm_cell_20_layer_call_and_return_conditional_losses, lstm_cell_21_layer_call_fn, lstm_cell_21_layer_call_and_return_conditional_losses, lstm_cell_23_layer_call_fn while saving (showing 5 of 8). These functions will not be directly callable after loading.\n"
          ]
        },
        {
          "name": "stdout",
          "output_type": "stream",
          "text": [
            "\b\b\b\b\b\b\b\b\b\b\b\b\b\b\b\b\b\b\b\b\b\b\b\b\b\b\b\b\b\b\b\b\b\b\b\b\b\b\b\b\b\b\b\b\b\b\b\b\b\b\b\b\b\b\b\b\b\b\b\b\b\b\b\b\b\b\b\b\b\b\b\b\b\b\b\b\b\b\b\b\b\b\b\b\r312/312 [==============================] - 49s 157ms/step - loss: 0.0436 - accuracy: 0.9868 - val_loss: 0.1338 - val_accuracy: 0.9565\n"
          ]
        }
      ],
      "source": [
        "history=model.fit(\n",
        "    train_data,\n",
        "    epochs=10,\n",
        "    validation_data=val_data,\n",
        "    workers=-1,\n",
        "    callbacks=[\n",
        "        tf.keras.callbacks.TensorBoard(log_dir='logs',write_images=True,write_steps_per_second=True),\n",
        "        tf.keras.callbacks.ModelCheckpoint(filepath='ckpt',verbose=1,save_best_only=True)\n",
        "    ]\n",
        ")"
      ]
    },
    {
      "cell_type": "code",
      "execution_count": null,
      "metadata": {
        "id": "J3TQd2tRASD8"
      },
      "outputs": [],
      "source": [
        "df=pd.DataFrame(history.history)\n",
        "df.to_csv('model_metrics.csv')"
      ]
    },
    {
      "cell_type": "code",
      "execution_count": 144,
      "metadata": {
        "id": "l68qEJ7-UBQx",
        "outputId": "c540bf82-b9d9-4fb2-bd51-2ddf33813dd1"
      },
      "outputs": [
        {
          "data": {
            "image/png": "[encoded data removed]",
            "text/plain": [
              "<Figure size 1080x360 with 2 Axes>"
            ]
          },
          "metadata": {},
          "output_type": "display_data"
        }
      ],
      "source": [
        "df=pd.read_csv('model_metrics.csv')\n",
        "plt.style.use('fivethirtyeight')\n",
        "fig,ax=plt.subplots(nrows=1,ncols=2)\n",
        "fig.set_figwidth(15)\n",
        "fig.set_figheight(5)\n",
        "ax[0].plot(df['loss'],label='loss')\n",
        "ax[0].plot(df['val_loss'],label='val loss')\n",
        "ax[0].set_xlabel('Epochs')\n",
        "ax[0].set_ylabel('Loss')\n",
        "ax[0].set_title('Loss trend')\n",
        "\n",
        "ax[1].plot(df['accuracy']*100,label='accuracy')\n",
        "ax[1].plot(df['val_accuracy']*100,label='val accuracy')\n",
        "ax[1].set_xlabel('Epochs')\n",
        "ax[1].set_ylabel('Accuracy')\n",
        "ax[1].set_title('Accuracy trend')\n",
        "plt.show()"
      ]
    },
    {
      "cell_type": "code",
      "execution_count": 25,
      "metadata": {
        "id": "f5Hu8lx6UBQx"
      },
      "outputs": [],
      "source": [
        "from tensorflow.keras.metrics import Precision,Recall,BinaryAccuracy"
      ]
    },
    {
      "cell_type": "code",
      "execution_count": null,
      "metadata": {
        "colab": {
          "base_uri": "https://localhost:8080/"
        },
        "id": "yaWHyr0_UBQy",
        "outputId": "f2bd41c1-d3db-4fca-b9e1-5d87c10c9300"
      },
      "outputs": [
        {
          "name": "stdout",
          "output_type": "stream",
          "text": [
            "Precision: 0.9497537016868591\n",
            "Recall: 0.9618838429450989\n",
            "Binary Accuracy: 0.9556836485862732\n"
          ]
        }
      ],
      "source": [
        "pre=Precision()\n",
        "rec=Recall()\n",
        "acc=BinaryAccuracy()\n",
        "\n",
        "for batch in val_data.as_numpy_iterator():\n",
        "    reviews,sentiments=batch\n",
        "    preds=model.predict(reviews,verbose=0)\n",
        "    sentiments=sentiments.flatten()\n",
        "    preds=preds.flatten()\n",
        "    \n",
        "    pre.update_state(sentiments,preds)\n",
        "    rec.update_state(sentiments,preds)\n",
        "    acc.update_state(sentiments,preds)\n",
        "\n",
        "print(f'Precision: {pre.result()}')\n",
        "print(f'Recall: {rec.result()}')\n",
        "print(f'Binary Accuracy: {acc.result()}')"
      ]
    },
    {
      "cell_type": "code",
      "execution_count": null,
      "metadata": {
        "colab": {
          "base_uri": "https://localhost:8080/"
        },
        "id": "FUPwD0bPCYF6",
        "outputId": "3c810763-6f90-4f84-9b67-a49cfb4c62d5"
      },
      "outputs": [
        {
          "name": "stderr",
          "output_type": "stream",
          "text": [
            "WARNING:absl:Found untraced functions such as lstm_cell_20_layer_call_fn, lstm_cell_20_layer_call_and_return_conditional_losses, lstm_cell_21_layer_call_fn, lstm_cell_21_layer_call_and_return_conditional_losses, lstm_cell_23_layer_call_fn while saving (showing 5 of 8). These functions will not be directly callable after loading.\n"
          ]
        }
      ],
      "source": [
        "model.save('metadata')\n",
        "tf.keras.models.save_model(model,'models/sentiment_classifier-2.0.h5')"
      ]
    },
    {
      "cell_type": "code",
      "execution_count": 27,
      "metadata": {
        "id": "fMST527NUBQy"
      },
      "outputs": [],
      "source": [
        "model=tf.keras.models.load_model('models/sentiment_classifier-2.0.h5',compile=False)\n",
        "model.load_weights('ckpt')\n",
        "model.compile(\n",
        "    optimizer=tf.keras.optimizers.Adam(learning_rate=0.01),\n",
        "    loss=tf.keras.losses.BinaryCrossentropy(),\n",
        "    metrics=['accuracy']\n",
        ")"
      ]
    },
    {
      "cell_type": "code",
      "execution_count": null,
      "metadata": {
        "colab": {
          "base_uri": "https://localhost:8080/"
        },
        "id": "SwcpMyrYXEI_",
        "outputId": "166faa18-019f-4f5c-fbc1-b512cd061bd1"
      },
      "outputs": [
        {
          "name": "stdout",
          "output_type": "stream",
          "text": [
            "79/79 [==============================] - 5s 27ms/step - loss: 0.1292 - accuracy: 0.9594\n"
          ]
        },
        {
          "data": {
            "text/plain": [
              "[0.12924830615520477, 0.9593601226806641]"
            ]
          },
          "execution_count": 69,
          "metadata": {},
          "output_type": "execute_result"
        }
      ],
      "source": [
        "model.evaluate(val_data)"
      ]
    },
    {
      "cell_type": "code",
      "execution_count": 28,
      "metadata": {
        "colab": {
          "base_uri": "https://localhost:8080/"
        },
        "id": "cyvfhf3HhixD",
        "outputId": "c3f843d4-96bf-463b-cb89-547390811f3e"
      },
      "outputs": [
        {
          "name": "stdout",
          "output_type": "stream",
          "text": [
            "Model: \"model\"\n",
            "_________________________________________________________________\n",
            " Layer (type)                Output Shape              Param #   \n",
            "=================================================================\n",
            " input_1 (InputLayer)        [(None, 1)]               0         \n",
            "                                                                 \n",
            " text_vectorization (TextVec  (None, 500)              0         \n",
            " torization)                                                     \n",
            "                                                                 \n",
            " model_2 (Functional)        (None, 1)                 3906241   \n",
            "                                                                 \n",
            "=================================================================\n",
            "Total params: 3,906,241\n",
            "Trainable params: 3,906,241\n",
            "Non-trainable params: 0\n",
            "_________________________________________________________________\n"
          ]
        },
        {
          "name": "stderr",
          "output_type": "stream",
          "text": [
            "WARNING:absl:Found untraced functions such as _update_step_xla, _update_step_xla, lstm_cell_1_layer_call_fn, lstm_cell_1_layer_call_and_return_conditional_losses, lstm_cell_2_layer_call_fn while saving (showing 5 of 10). These functions will not be directly callable after loading.\n"
          ]
        }
      ],
      "source": [
        "def build_inference_model(model):\n",
        "    inputs=Input(shape=(1,),dtype='string')\n",
        "    ids=vectorize_layer(inputs)\n",
        "    outputs=model(ids)\n",
        "    model=Model(inputs=inputs,outputs=outputs)\n",
        "    return model\n",
        "\n",
        "end2end_model=build_inference_model(model)\n",
        "end2end_model.compile(\n",
        "    optimizer=tf.keras.optimizers.Adam(learning_rate=0.001),\n",
        "    loss=tf.keras.losses.BinaryCrossentropy(),\n",
        "    metrics=['accuracy',tf.keras.metrics.Precision(),tf.keras.metrics.Recall()]\n",
        ")\n",
        "end2end_model.summary()\n",
        "end2end_model.save('end2end_model')\n",
        "\n",
        "def get_sentiment(reviews):\n",
        "    preds=end2end_model(np.array(reviews))\n",
        "    preds=tf.squeeze(preds,axis=-1)\n",
        "    temp=[]\n",
        "    for pred in preds:\n",
        "        temp.append({'Sentiment':'Positive','Confidence':pred.numpy()*100} if pred>.5 else ({'Sentiment':'Negative','Confidence':(1-pred).numpy()*100}))\n",
        "    return temp"
      ]
    },
    {
      "attachments": {},
      "cell_type": "markdown",
      "metadata": {},
      "source": [
        "## Sentiment classification on random reviews from internet"
      ]
    },
    {
      "cell_type": "code",
      "execution_count": 29,
      "metadata": {
        "colab": {
          "base_uri": "https://localhost:8080/"
        },
        "id": "x5QjhQcWUBQy",
        "outputId": "c20c764a-e146-4d1f-a7ef-6e0caaefef49"
      },
      "outputs": [
        {
          "data": {
            "text/plain": [
              "[{'Sentiment': 'Positive', 'Confidence': 99.22014474868774},\n",
              " {'Sentiment': 'Negative', 'Confidence': 52.04205513000488},\n",
              " {'Sentiment': 'Positive', 'Confidence': 94.7136402130127},\n",
              " {'Sentiment': 'Positive', 'Confidence': 89.47750926017761},\n",
              " {'Sentiment': 'Positive', 'Confidence': 98.5156774520874}]"
            ]
          },
          "execution_count": 29,
          "metadata": {},
          "output_type": "execute_result"
        }
      ],
      "source": [
        "get_sentiment([\n",
        "    'This is an absolutely outstanding and beautiful movie, and there wasn’t a single moment or scene in which I lost interest. I am not a movie person to say the least, but after hearing so much good about it from others I decided to check it out. It keeps you hooked and the storyline is something so timeless and unique! What really resonated with me during my first time watching this film was the main character, Ishida’s, personality. Having a character in a movie who lives with anxiety and feeling truly alone is something I could most definitely relate to. ',\n",
        "    \n",
        "    '''It’s just horrible.... the mc can’t defend herself from this assault! Like she doesn’t have any grudges or anything is like she forgets the insults and harassment they did.... she is not normal! She always talking to them like they are buddies and why when they ask yui a question she says “well” or “umm” LIKE SAY SOMETHING she barely said anything in most of the episodes of season 1''',\n",
        "    \n",
        "    '''Don’t listen to the 0 stars people this anime is beautiful and a great experience (still can’t believe boss baby beat this in the oscars) people saying it’s too long honestly make zero sense. Endgame is 3 hours now is it considered a bad movie because of it, HELL NO it’s considered one of the greatest superhero movies ever made.''',\n",
        "    '''I'm so done with vampires... and Yui. Why is she such a weakling? Honestly her character frustrates me a lot. I watched this show quite some time ago and honestly I don't know why I did, probably because I was a kid and didn't really understand. honestly I would not recommend this anime :/''',\n",
        "    \n",
        "    '''Highly Overrated But Only Good \n",
        "\n",
        "However delightful as it is The Shawshank Redemption has no allegories and no statements to make and it brought nothing new to cinema in either style or substance. \n",
        "It had no revolutionary ideas or approaches it's only a very safe buddy story A damn good one but still just that. So it can impossibly be a film that will be remembered or studied, because what will it be remembered for Friendship Huh neat At the end of the day Shawshank is a good film but far from a perfect one. '''\n",
        "])"
      ]
    }
  ],
  "metadata": {
    "accelerator": "GPU",
    "colab": {
      "provenance": []
    },
    "gpuClass": "standard",
    "kernelspec": {
      "display_name": "Python 3",
      "language": "python",
      "name": "python3"
    },
    "language_info": {
      "codemirror_mode": {
        "name": "ipython",
        "version": 3
      },
      "file_extension": ".py",
      "mimetype": "text/x-python",
      "name": "python",
      "nbconvert_exporter": "python",
      "pygments_lexer": "ipython3",
      "version": "3.9.7"
    },
    "orig_nbformat": 4
  },
  "nbformat": 4,
  "nbformat_minor": 0
}
